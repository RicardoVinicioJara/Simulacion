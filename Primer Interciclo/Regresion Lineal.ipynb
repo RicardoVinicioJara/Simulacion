{
 "cells": [
  {
   "cell_type": "markdown",
   "metadata": {},
   "source": [
    "# <div align=\"center\"> ![Logo](https://www.ups.edu.ec/ups_portal-theme/images/ups/home/logo-ups-home.png)\n",
    "# <div align=\"center\">  Regresion Lineal\n",
    "## Materia:\n",
    "### <div align=\"center\"> Simulación\n",
    "## Docente:\n",
    "### <div align=\"center\"> Ing. Diego Quisi\n",
    "## Estudiante:\n",
    "### <div align=\"center\"> Ricardo Vinicio Jara Jara"
   ]
  },
  {
   "cell_type": "markdown",
   "metadata": {},
   "source": [
    "### Definición:\n",
    "El análisis de regresión involucra el estudio la relación entre dos variables CUANTITATIVAS. En general interesa:   \n",
    "- Investigar si existe una asociación entre las dos variables testeando la hipótesis de independencia estadística.\n",
    "- Estudiar la fuerza de la asociación, a través de una medida de asociación denominada coeficiente de correlación.\n",
    "- Estudiar la forma de la relación. Usando los datos propondremos un modelo para la relación y a partir de ella será posible predecir el valor de una variable a partir de la otra.     \n",
    "\n",
    "Para ello proponemos un MODELO que relaciona una variable dependiente (Y) con una variable independiente (X).\n",
    "La decisión sobre qué análisis usar en una situación particular, depende de la naturaleza del variable dependiente y del tipo de función que se propone para relacionar el variable dependiente y la variable independiente. \n",
    "\n",
    "Llamaremos MODELO MATEMÁTICO a la función matemática que proponemos como forma de relación entre la variable dependiente (Y) y la o las variables independientes.   \n",
    "La función más simple para la relación entre dos variables es la FUNCIÓN LINEAL   <b>Y = a + b X*</b>  \n",
    "* Esta expresión es una aproximación de la verdadera relación entre X e Y.\n",
    "* Para un dado valor de X el modelo predice un cierto valor para Y.\n",
    "* Mientras mejor sea la predicción, mejor es el modelo para explicar el fenómeno.\n",
    "Por ejemplo, Y = 2 X + 3 \n",
    "\n",
    "### Ejercicio en python:"
   ]
  },
  {
   "cell_type": "code",
   "execution_count": 38,
   "metadata": {},
   "outputs": [
    {
     "name": "stdout",
     "output_type": "stream",
     "text": [
      "Promedios:  -0.15748031496062992 4.661417322834645\n",
      "Predicción: 0.04845548152634777\n"
     ]
    },
    {
     "data": {
      "image/png": "[encoded data removed]",
      "text/plain": [
       "<Figure size 432x288 with 1 Axes>"
      ]
     },
     "metadata": {
      "needs_background": "light"
     },
     "output_type": "display_data"
    }
   ],
   "source": [
    "import numpy as np\n",
    "import random\n",
    "import matplotlib.pyplot as plt\n",
    "#Generacion de Puntos\n",
    "x = random.sample(range(9), 5)\n",
    "y = random.sample(range(9), 5)\n",
    "n = len(x)\n",
    "x = np.array(x)\n",
    "y = np.array(y)\n",
    "\n",
    "#Sumatoria de los arreglos \n",
    "sumarx = sum(x)\n",
    "sumary = sum(y)\n",
    "sumarx2 = sum(x*x)\n",
    "sumary2 = sum(y*y)\n",
    "sumarxy = sum(x*y)\n",
    "\n",
    "#Promedio\n",
    "promediox = sumarx/n\n",
    "promedioy = sumary/n\n",
    "m = (sumarx*sumary - n*sumarxy)/(sumarx**2 - n*sumarx2)\n",
    "b = promedioy - m*promediox\n",
    "print ('Promedios: ',m,b);\n",
    "\n",
    "#Calculo de operaciones [Predecir]\n",
    "resultadomax = np.sqrt(sumarx2/n - promediox**2)\n",
    "resultadomay = np.sqrt(sumary2/n - promedioy**2)\n",
    "resultadomaxy = sumarxy/n - promediox*promedioy\n",
    "prediccion = (resultadomaxy/(resultadomax*resultadomay))**2\n",
    "print ('Predicción:', prediccion);\n",
    "\n",
    "#Grafica\n",
    "plt.title('Grafica de Regresión Line')\n",
    "plt.plot(x,y,'o',color='blue')\n",
    "plt.plot(x, m*x + b,color='red')\n",
    "plt.xlabel('Eje X')\n",
    "plt.ylabel('Eje Y')\n",
    "plt.show()"
   ]
  },
  {
   "cell_type": "markdown",
   "metadata": {},
   "source": [
    "### Conclusiones\n",
    "La regresión lineal es un calculo matematico que nos permite aproximar la relacion de dependencia entre una variable dependiente Y y un variable independiente X, obteniendo de esta manera un resultado o una predicción, con su respectiva grafica para observar los puntos para el analisis.\n",
    "\n",
    "•\tEl cálculo de la regresión lineal no permite de alguna manera predecir cual seria el futuro de una variable de acuerdo con otra variable.  \n",
    "•\tCon la ayuda de Python y la librería de numpy y matplotlib lo podemos aplicar la regresión línea y demostrar de morfa grafica los puntos. \n"
   ]
  }
 ],
 "metadata": {
  "kernelspec": {
   "display_name": "Python 3",
   "language": "python",
   "name": "python3"
  },
  "language_info": {
   "codemirror_mode": {
    "name": "ipython",
    "version": 3
   },
   "file_extension": ".py",
   "mimetype": "text/x-python",
   "name": "python",
   "nbconvert_exporter": "python",
   "pygments_lexer": "ipython3",
   "version": "3.8.3"
  }
 },
 "nbformat": 4,
 "nbformat_minor": 4
}
