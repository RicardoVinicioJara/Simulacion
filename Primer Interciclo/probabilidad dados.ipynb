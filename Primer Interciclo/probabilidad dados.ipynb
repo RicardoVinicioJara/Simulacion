{
 "cells": [
  {
   "cell_type": "markdown",
   "metadata": {},
   "source": [
    "# <div align=\"center\"> ![Logo](https://www.ups.edu.ec/ups_portal-theme/images/ups/home/logo-ups-home.png)\n",
    "# <div align=\"center\">  Probabilidad de dados\n",
    "## Materia:\n",
    "### <div align=\"center\"> Simulación\n",
    "## Docente:\n",
    "### <div align=\"center\"> Ing. Diego Quisi\n",
    "## Estudiante:\n",
    "### <div align=\"center\"> Ricardo Vinicio Jara Jara\n",
    "    "
   ]
  },
  {
   "cell_type": "code",
   "execution_count": 28,
   "metadata": {},
   "outputs": [
    {
     "name": "stdin",
     "output_type": "stream",
     "text": [
      "Ingrese Cantidad a Calcular 1000\n"
     ]
    },
    {
     "data": {
      "image/png": "[encoded data removed]",
      "text/plain": [
       "<Figure size 432x288 with 1 Axes>"
      ]
     },
     "metadata": {
      "needs_background": "light"
     },
     "output_type": "display_data"
    },
    {
     "name": "stdout",
     "output_type": "stream",
     "text": [
      "{'2': 33, '3': 53, '4': 87, '5': 104, '6': 135, '7': 180, '8': 133, '9': 120, '10': 70, '11': 52, '12': 33}\n"
     ]
    }
   ],
   "source": [
    "import random\n",
    "import matplotlib.pyplot as plt\n",
    "\n",
    "valores_salidas = {'2':0,'3':0,'4':0,'5':0,'6':0,'7':0,'8':0,'9':0,'10':0,'11':0,'12':0}\n",
    "\n",
    "def generar_valores(cantidad):\n",
    "    for n in range(0,cantidad):\n",
    "        num1 = random.randint(1, 6)\n",
    "        num2 = random.randint(1, 6)\n",
    "        valores_salidas[str(num1+ num2)] += 1\n",
    "        \n",
    "def graficar():\n",
    "    plt.bar(range(len(valores_salidas)), list(valores_salidas.values()), align='center')\n",
    "    plt.xticks(range(len(valores_salidas)), list(valores_salidas.keys()))\n",
    "    plt.show()\n",
    "\n",
    "if __name__ == '__main__':\n",
    "    cantidad = input(\"Ingrese Cantidad a Calcular\")\n",
    "    generar_valores(int(cantidad))\n",
    "    graficar()\n",
    "    print(valores_salidas)"
   ]
  },
  {
   "cell_type": "markdown",
   "metadata": {},
   "source": [
    "### Conclusiones \n",
    "Con ayuda a la librerías de random y matplotlib e podido simular el lanzamiento de dos dados y poder calcular cual es el resultado con más probabilidad en salir, por lo que puedo decir, de acuerdo a mis pruebas realizadas que  es mas probable que la suma de los dos dados lanzado sea 7. "
   ]
  }
 ],
 "metadata": {
  "kernelspec": {
   "display_name": "Python 3",
   "language": "python",
   "name": "python3"
  },
  "language_info": {
   "codemirror_mode": {
    "name": "ipython",
    "version": 3
   },
   "file_extension": ".py",
   "mimetype": "text/x-python",
   "name": "python",
   "nbconvert_exporter": "python",
   "pygments_lexer": "ipython3",
   "version": "3.8.3"
  }
 },
 "nbformat": 4,
 "nbformat_minor": 4
}
