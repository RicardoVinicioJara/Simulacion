{
 "cells": [
  {
   "cell_type": "markdown",
   "metadata": {},
   "source": [
    "# <div align=\"center\"> ![Logo](https://www.ups.edu.ec/ups_portal-theme/images/ups/home/logo-ups-home.png)\n",
    "# <div align=\"center\">  Examen\n",
    "## Materia:\n",
    "### <div align=\"center\"> Simulacion\n",
    "## Docente:\n",
    "### <div align=\"center\"> Ing. Diego Qusi\n",
    "## Estudiantes:\n",
    "### <div align=\"center\"> Ricardo Vinicio Jara Jara\n",
    "\n",
    "<span style=\"color:red\">Las claves de Twitter que se están utilizando en este examen. Pertenecen a Juan Cañar ya que a mi cuenta de Twitter no es aceptada como cuenta de desarrollador.</span>"
   ]
  },
  {
   "cell_type": "markdown",
   "metadata": {},
   "source": [
    "### <center> <span style=\"color:red\">Regresión de Twitter</span></center> "
   ]
  },
  {
   "cell_type": "code",
   "execution_count": 550,
   "metadata": {},
   "outputs": [],
   "source": [
    "#Importamos Librerias\n",
    "import pandas as pd\n",
    "import numpy as np\n",
    "import tweepy as tw\n",
    "from tweepy import OAuthHandler\n",
    "import matplotlib.pyplot as plt\n",
    "from sklearn.linear_model import LinearRegression \n",
    "from sklearn.preprocessing import PolynomialFeatures "
   ]
  },
  {
   "cell_type": "code",
   "execution_count": 551,
   "metadata": {},
   "outputs": [],
   "source": [
    "# tokens y claves para acceder apy de twitter\n",
    "consumer_key = \"4JnLpCHZrSNWA9udcVjdoXPYf\"\n",
    "consumer_secret = \"3sYWK7vpVCkls36iyf8EVGcPxFmT6F2pXTEZX5PhHxwpyTbEgg\"\n",
    "access_token = \"202024170-280kigS0W8n2icIacC0oapfF0Y70LJU86wdQlFtw\"\n",
    "access_token_secret = \"CznuxrXC3zCKSGN9elTBhqRko7geQY3BufGmY2RgQe5qr\"\n",
    "\n",
    "auth = tw.OAuthHandler(consumer_key, consumer_secret)\n",
    "auth.set_access_token(access_token, access_token_secret)"
   ]
  },
  {
   "cell_type": "code",
   "execution_count": 552,
   "metadata": {},
   "outputs": [
    {
     "name": "stdout",
     "output_type": "stream",
     "text": [
      "Login Exitoso\n"
     ]
    }
   ],
   "source": [
    "#Comprobamos la coneccion a la api\n",
    "try:\n",
    "    api.verify_credentials()\n",
    "    print(\"Login Exitoso\")\n",
    "except:\n",
    "    print(\"Error\")"
   ]
  },
  {
   "cell_type": "markdown",
   "metadata": {},
   "source": [
    "### <center> Ingrese Texto a buscar </center>"
   ]
  },
  {
   "cell_type": "code",
   "execution_count": 553,
   "metadata": {},
   "outputs": [
    {
     "name": "stdout",
     "output_type": "stream",
     "text": [
      "Ingrese texto a buscar:   #Ecuador\n"
     ]
    }
   ],
   "source": [
    "txtBuscar = input('Ingrese texto a buscar:   ')"
   ]
  },
  {
   "cell_type": "code",
   "execution_count": 568,
   "metadata": {},
   "outputs": [],
   "source": [
    "# Realizamis la busqueda \n",
    "#Buscamos los twittes mas populares\n",
    "ts = api.search(txtBuscar, lang=\"es\", count=100, result_type='popular') \n",
    "#Buscamos los twittes mas populares y mas recientes\n",
    "#ts = api.search(txtBuscar, lang=\"es\", count=100, result_type='mixed') "
   ]
  },
  {
   "cell_type": "code",
   "execution_count": 569,
   "metadata": {},
   "outputs": [
    {
     "data": {
      "text/html": [
       "<div>\n",
       "<style scoped>\n",
       "    .dataframe tbody tr th:only-of-type {\n",
       "        vertical-align: middle;\n",
       "    }\n",
       "\n",
       "    .dataframe tbody tr th {\n",
       "        vertical-align: top;\n",
       "    }\n",
       "\n",
       "    .dataframe thead th {\n",
       "        text-align: right;\n",
       "    }\n",
       "</style>\n",
       "<table border=\"1\" class=\"dataframe\">\n",
       "  <thead>\n",
       "    <tr style=\"text-align: right;\">\n",
       "      <th></th>\n",
       "      <th>Usuario</th>\n",
       "      <th>text</th>\n",
       "      <th>rt</th>\n",
       "      <th>favoritos</th>\n",
       "      <th>seguidores</th>\n",
       "      <th>numtxt</th>\n",
       "      <th>fecha</th>\n",
       "      <th>hst</th>\n",
       "    </tr>\n",
       "  </thead>\n",
       "  <tbody>\n",
       "    <tr>\n",
       "      <th>0</th>\n",
       "      <td>Andrés Arauz</td>\n",
       "      <td>Gracias compañeros y compañeras por su respald...</td>\n",
       "      <td>532</td>\n",
       "      <td>1245</td>\n",
       "      <td>55860</td>\n",
       "      <td>103</td>\n",
       "      <td>2020-12-18 20:43:25</td>\n",
       "      <td>Ecuador</td>\n",
       "    </tr>\n",
       "    <tr>\n",
       "      <th>1</th>\n",
       "      <td>El Comercio</td>\n",
       "      <td>\"Profe Nancy, buenas tardes. No puedo mandar e...</td>\n",
       "      <td>133</td>\n",
       "      <td>462</td>\n",
       "      <td>1787798</td>\n",
       "      <td>139</td>\n",
       "      <td>2020-12-19 17:36:57</td>\n",
       "      <td></td>\n",
       "    </tr>\n",
       "    <tr>\n",
       "      <th>2</th>\n",
       "      <td>El Comercio</td>\n",
       "      <td>#ATENCIÓN | Mathías, un bebé que estaba desapa...</td>\n",
       "      <td>43</td>\n",
       "      <td>66</td>\n",
       "      <td>1787798</td>\n",
       "      <td>134</td>\n",
       "      <td>2020-12-19 19:00:00</td>\n",
       "      <td>ATENCIÓN</td>\n",
       "    </tr>\n",
       "    <tr>\n",
       "      <th>3</th>\n",
       "      <td>El Comercio</td>\n",
       "      <td>#Ecuador | “Queremos justicia\". Mauricio, segú...</td>\n",
       "      <td>106</td>\n",
       "      <td>220</td>\n",
       "      <td>1787798</td>\n",
       "      <td>140</td>\n",
       "      <td>2020-12-18 22:30:00</td>\n",
       "      <td>Ecuador</td>\n",
       "    </tr>\n",
       "    <tr>\n",
       "      <th>4</th>\n",
       "      <td>Evo Morales Ayma</td>\n",
       "      <td>Nuestro agradecimiento profundo al alcalde de ...</td>\n",
       "      <td>138</td>\n",
       "      <td>633</td>\n",
       "      <td>1182167</td>\n",
       "      <td>140</td>\n",
       "      <td>2020-12-18 19:09:15</td>\n",
       "      <td>Ecuador</td>\n",
       "    </tr>\n",
       "    <tr>\n",
       "      <th>5</th>\n",
       "      <td>ufcespanol</td>\n",
       "      <td>ES HORA #Ecuador‼️ pelea co-estelar #UFCVegas1...</td>\n",
       "      <td>34</td>\n",
       "      <td>127</td>\n",
       "      <td>333339</td>\n",
       "      <td>112</td>\n",
       "      <td>2020-12-20 01:57:58</td>\n",
       "      <td>Ecuador</td>\n",
       "    </tr>\n",
       "    <tr>\n",
       "      <th>6</th>\n",
       "      <td>JEFF</td>\n",
       "      <td>#Orgullo y #pasión\\n\\n@chitoveraUFC gracias po...</td>\n",
       "      <td>21</td>\n",
       "      <td>160</td>\n",
       "      <td>285561</td>\n",
       "      <td>140</td>\n",
       "      <td>2020-12-20 02:27:38</td>\n",
       "      <td>Orgullo</td>\n",
       "    </tr>\n",
       "    <tr>\n",
       "      <th>7</th>\n",
       "      <td>El Universo</td>\n",
       "      <td>Les compartimos la #ColumnaDeBonil de este 18 ...</td>\n",
       "      <td>432</td>\n",
       "      <td>1067</td>\n",
       "      <td>2214342</td>\n",
       "      <td>131</td>\n",
       "      <td>2020-12-18 12:30:32</td>\n",
       "      <td>ColumnaDeBonil</td>\n",
       "    </tr>\n",
       "    <tr>\n",
       "      <th>8</th>\n",
       "      <td>cnegobec</td>\n",
       "      <td>▶️ VIDEO | Con la participación de 16 instituc...</td>\n",
       "      <td>26</td>\n",
       "      <td>12</td>\n",
       "      <td>244695</td>\n",
       "      <td>140</td>\n",
       "      <td>2020-12-18 22:03:01</td>\n",
       "      <td></td>\n",
       "    </tr>\n",
       "    <tr>\n",
       "      <th>9</th>\n",
       "      <td>teleSUR TV</td>\n",
       "      <td>La Corte Nacional de Justicia de #Ecuador🇪🇨 au...</td>\n",
       "      <td>17</td>\n",
       "      <td>12</td>\n",
       "      <td>1951135</td>\n",
       "      <td>140</td>\n",
       "      <td>2020-12-19 23:19:00</td>\n",
       "      <td>Ecuador</td>\n",
       "    </tr>\n",
       "    <tr>\n",
       "      <th>10</th>\n",
       "      <td>El Pitazo</td>\n",
       "      <td>#Migracion La venezolana Mery Espinoza escribe...</td>\n",
       "      <td>6</td>\n",
       "      <td>5</td>\n",
       "      <td>789411</td>\n",
       "      <td>140</td>\n",
       "      <td>2020-12-20 12:46:06</td>\n",
       "      <td>Migracion</td>\n",
       "    </tr>\n",
       "    <tr>\n",
       "      <th>11</th>\n",
       "      <td>El Universo</td>\n",
       "      <td>Les compartimos la #CaricaturaDeBonil de este ...</td>\n",
       "      <td>212</td>\n",
       "      <td>598</td>\n",
       "      <td>2214342</td>\n",
       "      <td>123</td>\n",
       "      <td>2020-12-16 12:30:31</td>\n",
       "      <td>CaricaturaDeBonil</td>\n",
       "    </tr>\n",
       "  </tbody>\n",
       "</table>\n",
       "</div>"
      ],
      "text/plain": [
       "             Usuario                                               text   rt  \\\n",
       "0       Andrés Arauz  Gracias compañeros y compañeras por su respald...  532   \n",
       "1        El Comercio  \"Profe Nancy, buenas tardes. No puedo mandar e...  133   \n",
       "2        El Comercio  #ATENCIÓN | Mathías, un bebé que estaba desapa...   43   \n",
       "3        El Comercio  #Ecuador | “Queremos justicia\". Mauricio, segú...  106   \n",
       "4   Evo Morales Ayma  Nuestro agradecimiento profundo al alcalde de ...  138   \n",
       "5         ufcespanol  ES HORA #Ecuador‼️ pelea co-estelar #UFCVegas1...   34   \n",
       "6               JEFF  #Orgullo y #pasión\\n\\n@chitoveraUFC gracias po...   21   \n",
       "7        El Universo  Les compartimos la #ColumnaDeBonil de este 18 ...  432   \n",
       "8           cnegobec  ▶️ VIDEO | Con la participación de 16 instituc...   26   \n",
       "9         teleSUR TV  La Corte Nacional de Justicia de #Ecuador🇪🇨 au...   17   \n",
       "10         El Pitazo  #Migracion La venezolana Mery Espinoza escribe...    6   \n",
       "11       El Universo  Les compartimos la #CaricaturaDeBonil de este ...  212   \n",
       "\n",
       "    favoritos  seguidores  numtxt               fecha                hst  \n",
       "0        1245       55860     103 2020-12-18 20:43:25            Ecuador  \n",
       "1         462     1787798     139 2020-12-19 17:36:57                     \n",
       "2          66     1787798     134 2020-12-19 19:00:00           ATENCIÓN  \n",
       "3         220     1787798     140 2020-12-18 22:30:00            Ecuador  \n",
       "4         633     1182167     140 2020-12-18 19:09:15            Ecuador  \n",
       "5         127      333339     112 2020-12-20 01:57:58            Ecuador  \n",
       "6         160      285561     140 2020-12-20 02:27:38            Orgullo  \n",
       "7        1067     2214342     131 2020-12-18 12:30:32     ColumnaDeBonil  \n",
       "8          12      244695     140 2020-12-18 22:03:01                     \n",
       "9          12     1951135     140 2020-12-19 23:19:00            Ecuador  \n",
       "10          5      789411     140 2020-12-20 12:46:06          Migracion  \n",
       "11        598     2214342     123 2020-12-16 12:30:31  CaricaturaDeBonil  "
      ]
     },
     "execution_count": 569,
     "metadata": {},
     "output_type": "execute_result"
    }
   ],
   "source": [
    "#Genereamos nuestro DF\n",
    "df = pd.DataFrame({'Usuario': list(map(lambda x: x.author.name , ts)),\n",
    "                   'text': list(map(lambda x: x.text, ts)),\n",
    "                   'rt': list(map(lambda x: x.retweet_count, ts)),\n",
    "                   'favoritos': list(map(lambda x: x.favorite_count, ts)),\n",
    "                   'seguidores': list(map(lambda x: x.author.followers_count, ts)),\n",
    "                   'numtxt': list(map(lambda x: len(x.text), ts)),\n",
    "                   'fecha': list(map(lambda x: x.created_at, ts)),\n",
    "                   'hst':list(map(lambda x: x[0]['text'] if x != [] else '', list(map(lambda x: x.entities['hashtags'], ts))))})\n",
    "df['fecha'] =pd.to_datetime(df.fecha)\n",
    "df.sort_values(by='seguidores') \n",
    "df"
   ]
  },
  {
   "cell_type": "code",
   "execution_count": 570,
   "metadata": {},
   "outputs": [
    {
     "data": {
      "text/plain": [
       "<AxesSubplot:xlabel='seguidores'>"
      ]
     },
     "execution_count": 570,
     "metadata": {},
     "output_type": "execute_result"
    },
    {
     "data": {
      "image/png": "[encoded data removed]",
      "text/plain": [
       "<Figure size 1440x720 with 1 Axes>"
      ]
     },
     "metadata": {
      "needs_background": "light"
     },
     "output_type": "display_data"
    }
   ],
   "source": [
    "df1 = df.iloc[:, 2:7].cumsum()\n",
    "df1.plot(x='seguidores', y=['favoritos','rt', 'numtxt'],figsize=(20,10))"
   ]
  },
  {
   "cell_type": "markdown",
   "metadata": {},
   "source": [
    "# <center> Regresión Lineal<center>"
   ]
  },
  {
   "cell_type": "code",
   "execution_count": 571,
   "metadata": {},
   "outputs": [
    {
     "data": {
      "text/html": [
       "<div>\n",
       "<style scoped>\n",
       "    .dataframe tbody tr th:only-of-type {\n",
       "        vertical-align: middle;\n",
       "    }\n",
       "\n",
       "    .dataframe tbody tr th {\n",
       "        vertical-align: top;\n",
       "    }\n",
       "\n",
       "    .dataframe thead th {\n",
       "        text-align: right;\n",
       "    }\n",
       "</style>\n",
       "<table border=\"1\" class=\"dataframe\">\n",
       "  <thead>\n",
       "    <tr style=\"text-align: right;\">\n",
       "      <th></th>\n",
       "      <th>seguidores</th>\n",
       "      <th>sum</th>\n",
       "    </tr>\n",
       "  </thead>\n",
       "  <tbody>\n",
       "    <tr>\n",
       "      <th>0</th>\n",
       "      <td>55860</td>\n",
       "      <td>1880</td>\n",
       "    </tr>\n",
       "    <tr>\n",
       "      <th>1</th>\n",
       "      <td>1843658</td>\n",
       "      <td>2614</td>\n",
       "    </tr>\n",
       "    <tr>\n",
       "      <th>2</th>\n",
       "      <td>3631456</td>\n",
       "      <td>2857</td>\n",
       "    </tr>\n",
       "    <tr>\n",
       "      <th>3</th>\n",
       "      <td>5419254</td>\n",
       "      <td>3323</td>\n",
       "    </tr>\n",
       "    <tr>\n",
       "      <th>4</th>\n",
       "      <td>6601421</td>\n",
       "      <td>4234</td>\n",
       "    </tr>\n",
       "    <tr>\n",
       "      <th>5</th>\n",
       "      <td>6934760</td>\n",
       "      <td>4507</td>\n",
       "    </tr>\n",
       "    <tr>\n",
       "      <th>6</th>\n",
       "      <td>7220321</td>\n",
       "      <td>4828</td>\n",
       "    </tr>\n",
       "    <tr>\n",
       "      <th>7</th>\n",
       "      <td>9434663</td>\n",
       "      <td>6458</td>\n",
       "    </tr>\n",
       "    <tr>\n",
       "      <th>8</th>\n",
       "      <td>9679358</td>\n",
       "      <td>6636</td>\n",
       "    </tr>\n",
       "    <tr>\n",
       "      <th>9</th>\n",
       "      <td>11630493</td>\n",
       "      <td>6805</td>\n",
       "    </tr>\n",
       "    <tr>\n",
       "      <th>10</th>\n",
       "      <td>12419904</td>\n",
       "      <td>6956</td>\n",
       "    </tr>\n",
       "    <tr>\n",
       "      <th>11</th>\n",
       "      <td>14634246</td>\n",
       "      <td>7889</td>\n",
       "    </tr>\n",
       "  </tbody>\n",
       "</table>\n",
       "</div>"
      ],
      "text/plain": [
       "    seguidores   sum\n",
       "0        55860  1880\n",
       "1      1843658  2614\n",
       "2      3631456  2857\n",
       "3      5419254  3323\n",
       "4      6601421  4234\n",
       "5      6934760  4507\n",
       "6      7220321  4828\n",
       "7      9434663  6458\n",
       "8      9679358  6636\n",
       "9     11630493  6805\n",
       "10    12419904  6956\n",
       "11    14634246  7889"
      ]
     },
     "execution_count": 571,
     "metadata": {},
     "output_type": "execute_result"
    }
   ],
   "source": [
    "#Sumamos el numero de seguidores + numero de rt y favoritos para obtener un solo punto \n",
    "df1[\"sum\"] = df1[['favoritos','rt', 'numtxt']].sum(axis=1)\n",
    "df2 = df1.iloc[:, [2,5]]\n",
    "df2"
   ]
  },
  {
   "cell_type": "code",
   "execution_count": 572,
   "metadata": {},
   "outputs": [],
   "source": [
    "x = list(df2.iloc [:, 0]) # seguidores\n",
    "y = list(df2.iloc [:, 1]) # Total de la suma "
   ]
  },
  {
   "cell_type": "code",
   "execution_count": 573,
   "metadata": {},
   "outputs": [
    {
     "name": "stdout",
     "output_type": "stream",
     "text": [
      "Z= 0.0004485857533154105 * 3740579 + 1569.679617226448 | Prediccion 3247.650065777253\n"
     ]
    },
    {
     "data": {
      "image/png": "[encoded data removed]",
      "text/plain": [
       "<Figure size 1440x720 with 1 Axes>"
      ]
     },
     "metadata": {
      "needs_background": "light"
     },
     "output_type": "display_data"
    }
   ],
   "source": [
    "promedio = lambda a,y : sum(x) / len(y)\n",
    "operacion1 = lambda x,y : sum((x-np.average(x))*(y-np.average(y)))/sum((x-np.average(x))*(x-np.average(x)))\n",
    "operacion0 = lambda x,y : np.average(y)-operacion1(x,y)*np.average(x)\n",
    "\n",
    "z = api.get_user('MashiRafael').followers_count\n",
    "\n",
    "b1 =operacion1(x,y)\n",
    "b0 =operacion0(x,y)\n",
    "predecir= b1*z+b0\n",
    "puntos_x = np.linspace(x[0],x[-1],6)\n",
    "puntos_y = b0+b1*puntos_x\n",
    "print('Z=',b1,'*',z,'+',b0, \"| Prediccion\",predecir)\n",
    "\n",
    "plt.figure(figsize=(20,10))\n",
    "plt.plot(puntos_x,puntos_y,)\n",
    "plt.plot(x,y,\"o\") \n",
    "plt.plot(z,predecir,\"o\",color='blue') \n",
    "plt.xlabel('Eje X')\n",
    "plt.ylabel('Eje Y')\n",
    "\n",
    "plt.show()"
   ]
  },
  {
   "cell_type": "markdown",
   "metadata": {},
   "source": [
    "# <center> Regresión Polinomial<center>"
   ]
  },
  {
   "cell_type": "code",
   "execution_count": 574,
   "metadata": {},
   "outputs": [
    {
     "data": {
      "image/png": "[encoded data removed]",
      "text/plain": [
       "<Figure size 1440x720 with 1 Axes>"
      ]
     },
     "metadata": {
      "needs_background": "light"
     },
     "output_type": "display_data"
    }
   ],
   "source": [
    "x = list(df2.iloc [:, 0]) # seguidores\n",
    "y = list(df2.iloc [:, 1]) # Total de la suma\n",
    "z = api.get_user('MashiRafael').followers_count\n",
    "\n",
    "pf = PolynomialFeatures(degree = 4)\n",
    "X = pf.fit_transform(np.array(x).reshape(-1, 1))\n",
    "regresion_lineal = LinearRegression()\n",
    "regresion_lineal.fit(X, y) \n",
    "pred_x = list(range(0,max(x)+50))\n",
    "\n",
    "puntos = pf.fit_transform(np.array(pred_x).reshape(-1, 1))\n",
    "prediccion_entrenamiento = regresion_lineal.predict(puntos)\n",
    "respuesta =  round(-(prediccion_entrenamiento[z]))\n",
    "plt.figure(figsize=(20,10))\n",
    "plt.title('Predicción para el numero de seguidores: ' + str(z))\n",
    "plt.plot(pred_x, prediccion_entrenamiento, color='green')\n",
    "plt.scatter(x,y,label=\"Datos Reales\",color=\"red\")\n",
    "plt.xlabel(\"# suma de 'favoritos' + 'rt' + 'numtxt'\")\n",
    "plt.ylabel(\"# de seguidores\")\n",
    "plt.plot(z,prediccion_entrenamiento[z], 'o')\n",
    "plt.show()"
   ]
  },
  {
   "cell_type": "markdown",
   "metadata": {},
   "source": [
    "### <center> <span style=\"color:red\">Eventos Discretos | Simpy</span></center> "
   ]
  },
  {
   "cell_type": "markdown",
   "metadata": {},
   "source": [
    "#### Elecciones de asambleístas del Azuay  \n",
    "###### Se necesita 5 asambleístas. Pero en las presentes elecciones 90 aspirantes, Es decir existirán 18 partidos políticos."
   ]
  },
  {
   "cell_type": "code",
   "execution_count": null,
   "metadata": {},
   "outputs": [],
   "source": [
    "◦\tTomar los resultados de la regresión para la selección del candidato.\n",
    "◦\tSe tiene una tendencia del 90% de personas que realizan el proceso de elección dentro del Ecuador.\n",
    "◦\tDentro del procesos se tiene que alrededor del 5% - 10% votan nulo.\n",
    "◦\tSolo se va a tener en cuanta las elecciones de los asambleístas por el Azuay.\n",
    "◦\tLas personas solo tiene un recinto electoral para realizar el proceso.\n",
    "◦\tLas personas solo pueden realizar un proceso de elección por asambleísta del Azuay.\n",
    "◦\tLa persona se acerca a la mesa electoral y hacen fila en caso de ser necesario.\n",
    "◦\tRealiza el voto en un tiempo aleatorio de un partido especifico.\n",
    "◦\tLa persona recibe su certificado votación.\n",
    "◦\tLa persona sale del recinto electoral.\n",
    "◦\tFinalmente generar una grafica de las personas que votaron y los asambleístas electos.\n"
   ]
  },
  {
   "cell_type": "code",
   "execution_count": 1,
   "metadata": {},
   "outputs": [],
   "source": [
    "import simpy\n",
    "import random\n",
    "import matplotlib.pyplot as pp\n",
    "import math\n"
   ]
  },
  {
   "cell_type": "code",
   "execution_count": 592,
   "metadata": {},
   "outputs": [],
   "source": [
    "NUM_VOTANTES = 100 \n",
    "NUM_RECINTO = 1\n",
    "NUM_ASAMBLEISTAS = 5\n",
    "NUM_CANDIDATOS = 90 "
   ]
  },
  {
   "cell_type": "code",
   "execution_count": 2,
   "metadata": {},
   "outputs": [],
   "source": [
    "SEMILLA = 30\n",
    "\n",
    "NUM_RECINTO = 1 # \n",
    "NUM_MENSAS = 3\n",
    "T_LLEGADAS = 20\n",
    "TIEMPO_SIMULACION = 120\n",
    "TOT_CLIENTES = 5\n",
    "\n",
    "TIEMPO_ESPERA  = 0.0 # tiempo de espera total\n",
    "DURACION_TOTAL  = 0.0 # duracion de servicio total\n",
    "FIN = 0.0 # minuto en el que finaliza"
   ]
  },
  {
   "cell_type": "code",
   "execution_count": 3,
   "metadata": {},
   "outputs": [
    {
     "name": "stdout",
     "output_type": "stream",
     "text": [
      "------------------- Simulacion Elecciones ------------------\n",
      "--->  Persona 1  llego en minuto:  12.357767874449124\n",
      "<<>>  Persona 1  pasa a vota en  12.357767874449124  minutos esperando 0.0  <<>>\n",
      ">>>  Persona 1  vota en  1  minutos  <<<\n",
      "<---  Persona 1  Sale en minuto:  13.357767874449124\n",
      "--->  Persona 2  llego en minuto:  37.17074959460619\n",
      "<<>>  Persona 2  pasa a vota en  37.17074959460619  minutos esperando 0.0  <<>>\n",
      ">>>  Persona 2  vota en  2  minutos  <<<\n",
      "<---  Persona 2  Sale en minuto:  39.17074959460619\n",
      "--->  Persona 3  llego en minuto:  46.67103921721893\n",
      "<<>>  Persona 3  pasa a vota en  46.67103921721893  minutos esperando 0.0  <<>>\n",
      "--->  Persona 4  llego en minuto:  47.13787279405883\n",
      "<<>>  Persona 4  pasa a vota en  47.13787279405883  minutos esperando 0.0  <<>>\n",
      ">>>  Persona 3  vota en  1  minutos  <<<\n",
      "<---  Persona 3  Sale en minuto:  47.67103921721893\n",
      ">>>  Persona 4  vota en  2  minutos  <<<\n",
      "<---  Persona 4  Sale en minuto:  49.13787279405883\n",
      "--->  Persona 5  llego en minuto:  65.6042672111761\n",
      "<<>>  Persona 5  pasa a vota en  65.6042672111761  minutos esperando 0.0  <<>>\n",
      ">>>  Persona 5  vota en  1  minutos  <<<\n",
      "<---  Persona 5  Sale en minuto:  66.6042672111761\n"
     ]
    }
   ],
   "source": [
    "llegada = lambda persona, time : print (\"---> \", persona,\" llego en minuto: \", time) #Imprime Llegada\n",
    "salida = lambda persona, time : print (\"<--- \", persona,\" Sale en minuto: \", time) #Imprime Salida\n",
    "pasar_v = lambda persona, time, esp : print(\"<<>> \",persona, \" pasa a vota en \", time, \" minutos esperando\", esp,\" <<>>\") # timE\n",
    "votacion = lambda persona, time : print(\">>> \",persona, \" vota en \", time, \" minutos  <<<\") #Imprime Votacion\n",
    "\n",
    "def votar(persona):\n",
    "    global DURACION_TOTAL \n",
    "    tiempo_votar = random.randint(1,5)\n",
    "    yield env.timeout(tiempo_votar)\n",
    "    votacion(persona, tiempo_votar)\n",
    "    DURACION_TOTAL = DURACION_TOTAL + tiempo_votar # suma total de tiempo\n",
    "\n",
    "\n",
    "\n",
    "def persona (env, name, mesas):\n",
    "    global TIEMPO_ESPERA\n",
    "    global FIN\n",
    "    llega = env.now # minuto de llegada de persona\n",
    "    llegada(name, llega)\n",
    "    with mesas.request() as request: #Esperamos pasaar a mesas\n",
    "        yield request # Obtiene turno\n",
    "        pasa = env.now # Guarda el minuto cuado comienza a ser atendido\n",
    "        espera = pasa - llega # Calcula el tiempo que espero\n",
    "        TIEMPO_ESPERA = TIEMPO_ESPERA + espera # Acumula los tiempos de espera\n",
    "        pasar_v(name, pasa, espera)\n",
    "        yield env.process(votar(name)) # Invoca al de votar\n",
    "        deja = env.now #Guarda el minuto en que termina el proceso votar \n",
    "        salida(name, deja)\n",
    "        FIN = deja # Conserva globalmente el ultimo minuto de la simulacion\n",
    "\n",
    "\n",
    "def elecciones(env, personal):\n",
    "    llegada = 0\n",
    "    i = 0\n",
    "    for i in range(TOT_CLIENTES): # Para n clientes\n",
    "        R = random.random()\n",
    "        llegada = -T_LLEGADAS * math.log(R) # Distribucion exponencial\n",
    "        yield env.timeout(llegada)  # Deja transcurrir un tiempo entre uno y otro\n",
    "        i += 1\n",
    "        env.process(persona(env, 'Persona %d' % i, personal)) \n",
    "        \n",
    "print (\"------------------- Simulacion Elecciones ------------------\")\n",
    "random.seed (SEMILLA)  # Cualquier valor\n",
    "env = simpy.Environment() # Crea el objeto entorno de simulacion\n",
    "personal = simpy.Resource(env, NUM_MENSAS) #Crea las mesas\n",
    "env.process(elecciones(env, personal)) #Invoca el proceso princial\n",
    "env.run() #Inicia la simulacion"
   ]
  }
 ],
 "metadata": {
  "kernelspec": {
   "display_name": "Python 3",
   "language": "python",
   "name": "python3"
  },
  "language_info": {
   "codemirror_mode": {
    "name": "ipython",
    "version": 3
   },
   "file_extension": ".py",
   "mimetype": "text/x-python",
   "name": "python",
   "nbconvert_exporter": "python",
   "pygments_lexer": "ipython3",
   "version": "3.8.5"
  }
 },
 "nbformat": 4,
 "nbformat_minor": 4
}
