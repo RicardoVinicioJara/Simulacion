{
 "cells": [
  {
   "cell_type": "markdown",
   "metadata": {},
   "source": [
    "# <div align=\"center\"> ![Logo](https://www.ups.edu.ec/ups_portal-theme/images/ups/home/logo-ups-home.png)\n",
    "# <div align=\"center\">  Examen\n",
    "## Materia:\n",
    "### <div align=\"center\"> Simulacion\n",
    "## Docente:\n",
    "### <div align=\"center\"> Ing. Diego Qusi\n",
    "## Estudiantes:\n",
    "### <div align=\"center\"> Ricardo Vinicio Jara Jara"
   ]
  },
  {
   "cell_type": "code",
   "execution_count": 456,
   "metadata": {},
   "outputs": [],
   "source": [
    "#Importamos Librerias\n",
    "import pandas as pd\n",
    "import numpy as np\n",
    "import tweepy as tw\n",
    "from tweepy import OAuthHandler\n",
    "import matplotlib.pyplot as plt"
   ]
  },
  {
   "cell_type": "code",
   "execution_count": 437,
   "metadata": {},
   "outputs": [],
   "source": [
    "# tokens y claves para acceder apy de twitter\n",
    "consumer_key = \"4JnLpCHZrSNWA9udcVjdoXPYf\"\n",
    "consumer_secret = \"3sYWK7vpVCkls36iyf8EVGcPxFmT6F2pXTEZX5PhHxwpyTbEgg\"\n",
    "access_token = \"202024170-280kigS0W8n2icIacC0oapfF0Y70LJU86wdQlFtw\"\n",
    "access_token_secret = \"CznuxrXC3zCKSGN9elTBhqRko7geQY3BufGmY2RgQe5qr\"\n",
    "\n",
    "auth = tw.OAuthHandler(consumer_key, consumer_secret)\n",
    "auth.set_access_token(access_token, access_token_secret)"
   ]
  },
  {
   "cell_type": "code",
   "execution_count": 438,
   "metadata": {},
   "outputs": [
    {
     "name": "stdout",
     "output_type": "stream",
     "text": [
      "Login Exitoso\n"
     ]
    }
   ],
   "source": [
    "#Comprobamos la coneccion a la api\n",
    "try:\n",
    "    api.verify_credentials()\n",
    "    print(\"Login Exitoso\")\n",
    "except:\n",
    "    print(\"Error\")"
   ]
  },
  {
   "cell_type": "markdown",
   "metadata": {},
   "source": [
    "### <center> Ingrese Texto a buscar </center>"
   ]
  },
  {
   "cell_type": "code",
   "execution_count": 439,
   "metadata": {},
   "outputs": [
    {
     "name": "stdout",
     "output_type": "stream",
     "text": [
      "Ingrese texto a buscar:   Ecuador\n"
     ]
    }
   ],
   "source": [
    "txtBuscar = input('Ingrese texto a buscar:   ')"
   ]
  },
  {
   "cell_type": "code",
   "execution_count": 440,
   "metadata": {},
   "outputs": [],
   "source": [
    "# Realizamis la busqueda \n",
    "#Buscamos los twittes mas populares\n",
    "ts = api.search(txtBuscar, lang=\"es\", count=100, result_type='popular') \n",
    "#Buscamos los twittes mas populares y mas recientes\n",
    "#ts = api.search(txtBuscar, lang=\"es\", count=100, result_type='mixed') "
   ]
  },
  {
   "cell_type": "code",
   "execution_count": 482,
   "metadata": {},
   "outputs": [
    {
     "data": {
      "text/html": [
       "<div>\n",
       "<style scoped>\n",
       "    .dataframe tbody tr th:only-of-type {\n",
       "        vertical-align: middle;\n",
       "    }\n",
       "\n",
       "    .dataframe tbody tr th {\n",
       "        vertical-align: top;\n",
       "    }\n",
       "\n",
       "    .dataframe thead th {\n",
       "        text-align: right;\n",
       "    }\n",
       "</style>\n",
       "<table border=\"1\" class=\"dataframe\">\n",
       "  <thead>\n",
       "    <tr style=\"text-align: right;\">\n",
       "      <th></th>\n",
       "      <th>Usuario</th>\n",
       "      <th>text</th>\n",
       "      <th>rt</th>\n",
       "      <th>favoritos</th>\n",
       "      <th>seguidores</th>\n",
       "      <th>numtxt</th>\n",
       "      <th>fecha</th>\n",
       "      <th>hst</th>\n",
       "    </tr>\n",
       "  </thead>\n",
       "  <tbody>\n",
       "    <tr>\n",
       "      <th>0</th>\n",
       "      <td>Lenín Moreno</td>\n",
       "      <td>¡Nuestro Ecuador se hace sentir! Gracias Carlo...</td>\n",
       "      <td>1770</td>\n",
       "      <td>1733</td>\n",
       "      <td>1066956</td>\n",
       "      <td>140</td>\n",
       "      <td>2020-12-19 15:01:18</td>\n",
       "      <td></td>\n",
       "    </tr>\n",
       "    <tr>\n",
       "      <th>1</th>\n",
       "      <td>Andrés Arauz</td>\n",
       "      <td>Tengo la responsabilidad de comunicar al Ecuad...</td>\n",
       "      <td>823</td>\n",
       "      <td>2150</td>\n",
       "      <td>55735</td>\n",
       "      <td>139</td>\n",
       "      <td>2020-12-19 16:32:20</td>\n",
       "      <td></td>\n",
       "    </tr>\n",
       "    <tr>\n",
       "      <th>2</th>\n",
       "      <td>Rafael Correa</td>\n",
       "      <td>🥊🥊Carlos Góngora se consagra como el primer ca...</td>\n",
       "      <td>353</td>\n",
       "      <td>1346</td>\n",
       "      <td>3740574</td>\n",
       "      <td>140</td>\n",
       "      <td>2020-12-19 06:43:44</td>\n",
       "      <td></td>\n",
       "    </tr>\n",
       "    <tr>\n",
       "      <th>3</th>\n",
       "      <td>Presidencia ECU</td>\n",
       "      <td>La inclusión es prioridad para el Gobierno Nac...</td>\n",
       "      <td>286</td>\n",
       "      <td>279</td>\n",
       "      <td>1609791</td>\n",
       "      <td>140</td>\n",
       "      <td>2020-12-18 13:40:57</td>\n",
       "      <td></td>\n",
       "    </tr>\n",
       "    <tr>\n",
       "      <th>4</th>\n",
       "      <td>Rafael Correa</td>\n",
       "      <td>Ecuador tiene 2 jets ejecutivos: uno de corto ...</td>\n",
       "      <td>674</td>\n",
       "      <td>1104</td>\n",
       "      <td>3740574</td>\n",
       "      <td>140</td>\n",
       "      <td>2020-12-18 05:42:40</td>\n",
       "      <td></td>\n",
       "    </tr>\n",
       "    <tr>\n",
       "      <th>5</th>\n",
       "      <td>Rafael Correa</td>\n",
       "      <td>El Ciudadano | Celag: Andrés Arauz lidera inte...</td>\n",
       "      <td>589</td>\n",
       "      <td>1553</td>\n",
       "      <td>3740574</td>\n",
       "      <td>114</td>\n",
       "      <td>2020-12-18 16:30:44</td>\n",
       "      <td></td>\n",
       "    </tr>\n",
       "    <tr>\n",
       "      <th>6</th>\n",
       "      <td>Gustavo Petro</td>\n",
       "      <td>El progresista Andrés Arauz ganaria la preside...</td>\n",
       "      <td>186</td>\n",
       "      <td>437</td>\n",
       "      <td>4020054</td>\n",
       "      <td>140</td>\n",
       "      <td>2020-12-19 22:12:19</td>\n",
       "      <td></td>\n",
       "    </tr>\n",
       "    <tr>\n",
       "      <th>7</th>\n",
       "      <td>Pabel Muñoz L.</td>\n",
       "      <td>El 24 de junio, @InfoNodal de Argentina public...</td>\n",
       "      <td>293</td>\n",
       "      <td>485</td>\n",
       "      <td>82865</td>\n",
       "      <td>140</td>\n",
       "      <td>2020-12-18 14:25:55</td>\n",
       "      <td></td>\n",
       "    </tr>\n",
       "    <tr>\n",
       "      <th>8</th>\n",
       "      <td>El Comercio</td>\n",
       "      <td>“Profe Nancy, no puedo mandar el deber muy pro...</td>\n",
       "      <td>184</td>\n",
       "      <td>516</td>\n",
       "      <td>1787644</td>\n",
       "      <td>140</td>\n",
       "      <td>2020-12-18 17:05:00</td>\n",
       "      <td></td>\n",
       "    </tr>\n",
       "    <tr>\n",
       "      <th>9</th>\n",
       "      <td>Andrés Arauz</td>\n",
       "      <td>Gracias compañeros y compañeras por su respald...</td>\n",
       "      <td>523</td>\n",
       "      <td>1214</td>\n",
       "      <td>55735</td>\n",
       "      <td>103</td>\n",
       "      <td>2020-12-18 20:43:25</td>\n",
       "      <td>Ecuador</td>\n",
       "    </tr>\n",
       "    <tr>\n",
       "      <th>10</th>\n",
       "      <td>El Universo</td>\n",
       "      <td>Les compartimos la #ColumnaDeBonil de este 18 ...</td>\n",
       "      <td>430</td>\n",
       "      <td>1051</td>\n",
       "      <td>2214183</td>\n",
       "      <td>131</td>\n",
       "      <td>2020-12-18 12:30:32</td>\n",
       "      <td>ColumnaDeBonil</td>\n",
       "    </tr>\n",
       "    <tr>\n",
       "      <th>11</th>\n",
       "      <td>Guillaume Long</td>\n",
       "      <td>.@elcomerciocom publicó una nota sobre los 13 ...</td>\n",
       "      <td>234</td>\n",
       "      <td>394</td>\n",
       "      <td>105451</td>\n",
       "      <td>140</td>\n",
       "      <td>2020-12-18 10:05:48</td>\n",
       "      <td></td>\n",
       "    </tr>\n",
       "  </tbody>\n",
       "</table>\n",
       "</div>"
      ],
      "text/plain": [
       "            Usuario                                               text    rt  \\\n",
       "0      Lenín Moreno  ¡Nuestro Ecuador se hace sentir! Gracias Carlo...  1770   \n",
       "1      Andrés Arauz  Tengo la responsabilidad de comunicar al Ecuad...   823   \n",
       "2     Rafael Correa  🥊🥊Carlos Góngora se consagra como el primer ca...   353   \n",
       "3   Presidencia ECU  La inclusión es prioridad para el Gobierno Nac...   286   \n",
       "4     Rafael Correa  Ecuador tiene 2 jets ejecutivos: uno de corto ...   674   \n",
       "5     Rafael Correa  El Ciudadano | Celag: Andrés Arauz lidera inte...   589   \n",
       "6     Gustavo Petro  El progresista Andrés Arauz ganaria la preside...   186   \n",
       "7    Pabel Muñoz L.  El 24 de junio, @InfoNodal de Argentina public...   293   \n",
       "8       El Comercio  “Profe Nancy, no puedo mandar el deber muy pro...   184   \n",
       "9      Andrés Arauz  Gracias compañeros y compañeras por su respald...   523   \n",
       "10      El Universo  Les compartimos la #ColumnaDeBonil de este 18 ...   430   \n",
       "11   Guillaume Long  .@elcomerciocom publicó una nota sobre los 13 ...   234   \n",
       "\n",
       "    favoritos  seguidores  numtxt               fecha             hst  \n",
       "0        1733     1066956     140 2020-12-19 15:01:18                  \n",
       "1        2150       55735     139 2020-12-19 16:32:20                  \n",
       "2        1346     3740574     140 2020-12-19 06:43:44                  \n",
       "3         279     1609791     140 2020-12-18 13:40:57                  \n",
       "4        1104     3740574     140 2020-12-18 05:42:40                  \n",
       "5        1553     3740574     114 2020-12-18 16:30:44                  \n",
       "6         437     4020054     140 2020-12-19 22:12:19                  \n",
       "7         485       82865     140 2020-12-18 14:25:55                  \n",
       "8         516     1787644     140 2020-12-18 17:05:00                  \n",
       "9        1214       55735     103 2020-12-18 20:43:25         Ecuador  \n",
       "10       1051     2214183     131 2020-12-18 12:30:32  ColumnaDeBonil  \n",
       "11        394      105451     140 2020-12-18 10:05:48                  "
      ]
     },
     "execution_count": 482,
     "metadata": {},
     "output_type": "execute_result"
    }
   ],
   "source": [
    "#Genereamos nuestro DF\n",
    "df = pd.DataFrame({'Usuario': list(map(lambda x: x.author.name , ts)),\n",
    "                   'text': list(map(lambda x: x.text, ts)),\n",
    "                   'rt': list(map(lambda x: x.retweet_count, ts)),\n",
    "                   'favoritos': list(map(lambda x: x.favorite_count, ts)),\n",
    "                   'seguidores': list(map(lambda x: x.author.followers_count, ts)),\n",
    "                   'numtxt': list(map(lambda x: len(x.text), ts)),\n",
    "                   'fecha': list(map(lambda x: x.created_at, ts)),\n",
    "                   'hst':list(map(lambda x: x[0]['text'] if x != [] else '', list(map(lambda x: x.entities['hashtags'], ts))))})\n",
    "df['fecha'] =pd.to_datetime(df.fecha)\n",
    "df.sort_values(by='seguidores') \n",
    "df"
   ]
  },
  {
   "cell_type": "code",
   "execution_count": 484,
   "metadata": {},
   "outputs": [
    {
     "data": {
      "text/plain": [
       "<AxesSubplot:xlabel='seguidores'>"
      ]
     },
     "execution_count": 484,
     "metadata": {},
     "output_type": "execute_result"
    },
    {
     "data": {
      "image/png": "[encoded data removed]",
      "text/plain": [
       "<Figure size 1440x720 with 1 Axes>"
      ]
     },
     "metadata": {
      "needs_background": "light"
     },
     "output_type": "display_data"
    }
   ],
   "source": [
    "df1 = df.iloc[:, 2:7].cumsum()\n",
    "df1.plot(x='seguidores', y=['favoritos','rt', 'numtxt'],figsize=(20,10))"
   ]
  },
  {
   "cell_type": "markdown",
   "metadata": {},
   "source": [
    "# <center> Regresión <center>"
   ]
  },
  {
   "cell_type": "code",
   "execution_count": 493,
   "metadata": {},
   "outputs": [
    {
     "data": {
      "text/html": [
       "<div>\n",
       "<style scoped>\n",
       "    .dataframe tbody tr th:only-of-type {\n",
       "        vertical-align: middle;\n",
       "    }\n",
       "\n",
       "    .dataframe tbody tr th {\n",
       "        vertical-align: top;\n",
       "    }\n",
       "\n",
       "    .dataframe thead th {\n",
       "        text-align: right;\n",
       "    }\n",
       "</style>\n",
       "<table border=\"1\" class=\"dataframe\">\n",
       "  <thead>\n",
       "    <tr style=\"text-align: right;\">\n",
       "      <th></th>\n",
       "      <th>seguidores</th>\n",
       "      <th>sum</th>\n",
       "    </tr>\n",
       "  </thead>\n",
       "  <tbody>\n",
       "    <tr>\n",
       "      <th>0</th>\n",
       "      <td>1066956</td>\n",
       "      <td>3643</td>\n",
       "    </tr>\n",
       "    <tr>\n",
       "      <th>1</th>\n",
       "      <td>1122691</td>\n",
       "      <td>6755</td>\n",
       "    </tr>\n",
       "    <tr>\n",
       "      <th>2</th>\n",
       "      <td>4863265</td>\n",
       "      <td>8594</td>\n",
       "    </tr>\n",
       "    <tr>\n",
       "      <th>3</th>\n",
       "      <td>6473056</td>\n",
       "      <td>9299</td>\n",
       "    </tr>\n",
       "    <tr>\n",
       "      <th>4</th>\n",
       "      <td>10213630</td>\n",
       "      <td>11217</td>\n",
       "    </tr>\n",
       "    <tr>\n",
       "      <th>5</th>\n",
       "      <td>13954204</td>\n",
       "      <td>13473</td>\n",
       "    </tr>\n",
       "    <tr>\n",
       "      <th>6</th>\n",
       "      <td>17974258</td>\n",
       "      <td>14236</td>\n",
       "    </tr>\n",
       "    <tr>\n",
       "      <th>7</th>\n",
       "      <td>18057123</td>\n",
       "      <td>15154</td>\n",
       "    </tr>\n",
       "    <tr>\n",
       "      <th>8</th>\n",
       "      <td>19844767</td>\n",
       "      <td>15994</td>\n",
       "    </tr>\n",
       "    <tr>\n",
       "      <th>9</th>\n",
       "      <td>19900502</td>\n",
       "      <td>17834</td>\n",
       "    </tr>\n",
       "    <tr>\n",
       "      <th>10</th>\n",
       "      <td>22114685</td>\n",
       "      <td>19446</td>\n",
       "    </tr>\n",
       "    <tr>\n",
       "      <th>11</th>\n",
       "      <td>22220136</td>\n",
       "      <td>20214</td>\n",
       "    </tr>\n",
       "  </tbody>\n",
       "</table>\n",
       "</div>"
      ],
      "text/plain": [
       "    seguidores    sum\n",
       "0      1066956   3643\n",
       "1      1122691   6755\n",
       "2      4863265   8594\n",
       "3      6473056   9299\n",
       "4     10213630  11217\n",
       "5     13954204  13473\n",
       "6     17974258  14236\n",
       "7     18057123  15154\n",
       "8     19844767  15994\n",
       "9     19900502  17834\n",
       "10    22114685  19446\n",
       "11    22220136  20214"
      ]
     },
     "execution_count": 493,
     "metadata": {},
     "output_type": "execute_result"
    }
   ],
   "source": [
    "#Sumamos el numero de seguidores + numero de rt y favoritos para obtener un solo punto \n",
    "df1[\"sum\"] = df1[['favoritos','rt', 'numtxt']].sum(axis=1)\n",
    "df2 = df1.iloc[:, [2,5]]\n",
    "df2"
   ]
  },
  {
   "cell_type": "code",
   "execution_count": 494,
   "metadata": {},
   "outputs": [],
   "source": [
    "x = list(df2.iloc [:, 0]) # seguidores\n",
    "y = list(df2.iloc [:, 1]) # Total de la suma"
   ]
  },
  {
   "cell_type": "code",
   "execution_count": 496,
   "metadata": {},
   "outputs": [
    {
     "name": "stdout",
     "output_type": "stream",
     "text": [
      "CALCULO DE LA FUNCION DE REGRESION LINEAL\n",
      "ESCRIBA SU EDAD( EJEMPLO 28)): 10\n",
      "Formula aplicada:  [ 1066956.  5297592.  9528228. 13758864. 17989500. 22220136.]\n",
      "Z= 0.000627056378824275 * 10.0 + 4742.183079436989\n",
      "__________________________\n",
      "Prediccion = * 4742.189350000777\n"
     ]
    },
    {
     "data": {
      "image/png": "[encoded data removed]",
      "text/plain": [
       "<Figure size 432x288 with 1 Axes>"
      ]
     },
     "metadata": {
      "needs_background": "light"
     },
     "output_type": "display_data"
    }
   ],
   "source": [
    "def promedio(x,y): \n",
    "    return sum(x) / len(y)\n",
    "\n",
    "def operacion1(x,y):\n",
    "    #obtiene x menos el promedio de x\n",
    "    ter1 = x-np.average(x)\n",
    "    ter2 = y-np.average(y)\n",
    "    sxy = sum(ter1*ter2)\n",
    "    sxx = sum(ter1*ter1)\n",
    "    resp =sxy/sxx\n",
    "    #print(\"--->\",resp)\n",
    "    return resp\n",
    "\n",
    "def operacion0(x,y):\n",
    "    res = np.average(y)-operacion1(x,y)*np.average(x)\n",
    "    #print(\"->\",res)\n",
    "    return res\n",
    "\n",
    "def graficar(x,y,z):\n",
    "    b1 =operacion1(x,y)\n",
    "    b0 =operacion0(x,y)\n",
    "    predecir= b1*z+b0\n",
    "    #print('**.',b1,b0,predecir)\n",
    "    puntos_x = np.linspace(x[0],x[-1],6)\n",
    "    puntos_y = b0+b1*puntos_x\n",
    "    print(\"Formula aplicada: \",puntos_x)\n",
    "    print('Z=',b1,'*',z,'+',b0)\n",
    "    print('__________________________')\n",
    "    print('Prediccion = *',predecir)\n",
    "    plt.plot(puntos_x,puntos_y,)\n",
    "    plt.plot(x,y,\"o\") \n",
    "    plt.xlabel('Eje X')\n",
    "    plt.ylabel('Eje Y')\n",
    "    \n",
    "    plt.show()\n",
    "    \n",
    "if __name__==\"__main__\":\n",
    "    print(\"CALCULO DE LA FUNCION DE REGRESION LINEAL\")\n",
    "    z=cantidad = float(input(\"ESCRIBA SU EDAD( EJEMPLO 28)): \"))\n",
    "    #x=[1,2,3,4,5]\n",
    "    #y=[2,3,5,6,7]\n",
    "    graficar(x,y,z)"
   ]
  }
 ],
 "metadata": {
  "kernelspec": {
   "display_name": "Python 3",
   "language": "python",
   "name": "python3"
  },
  "language_info": {
   "codemirror_mode": {
    "name": "ipython",
    "version": 3
   },
   "file_extension": ".py",
   "mimetype": "text/x-python",
   "name": "python",
   "nbconvert_exporter": "python",
   "pygments_lexer": "ipython3",
   "version": "3.8.5"
  }
 },
 "nbformat": 4,
 "nbformat_minor": 4
}
