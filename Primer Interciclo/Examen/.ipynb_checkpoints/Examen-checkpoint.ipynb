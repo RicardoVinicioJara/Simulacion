{
 "cells": [
  {
   "cell_type": "markdown",
   "metadata": {},
   "source": [
    "# <div align=\"center\"> ![Logo](https://www.ups.edu.ec/ups_portal-theme/images/ups/home/logo-ups-home.png)\n",
    "# <div align=\"center\">  Examen\n",
    "## Materia:\n",
    "### <div align=\"center\"> Simulacion\n",
    "## Docente:\n",
    "### <div align=\"center\"> Ing. Diego Qusi\n",
    "## Estudiantes:\n",
    "### <div align=\"center\"> Ricardo Vinicio Jara Jara"
   ]
  },
  {
   "cell_type": "code",
   "execution_count": 300,
   "metadata": {},
   "outputs": [],
   "source": [
    "#Importamos Librerias\n",
    "import pandas as pd\n",
    "import tweepy as tw\n",
    "from tweepy import OAuthHandler"
   ]
  },
  {
   "cell_type": "code",
   "execution_count": 301,
   "metadata": {},
   "outputs": [],
   "source": [
    "# tokens y claves para acceder apy de twitter\n",
    "consumer_key = \"4JnLpCHZrSNWA9udcVjdoXPYf\"\n",
    "consumer_secret = \"3sYWK7vpVCkls36iyf8EVGcPxFmT6F2pXTEZX5PhHxwpyTbEgg\"\n",
    "access_token = \"202024170-280kigS0W8n2icIacC0oapfF0Y70LJU86wdQlFtw\"\n",
    "access_token_secret = \"CznuxrXC3zCKSGN9elTBhqRko7geQY3BufGmY2RgQe5qr\"\n",
    "\n",
    "auth = tw.OAuthHandler(consumer_key, consumer_secret)\n",
    "auth.set_access_token(access_token, access_token_secret)"
   ]
  },
  {
   "cell_type": "code",
   "execution_count": 303,
   "metadata": {},
   "outputs": [
    {
     "name": "stdout",
     "output_type": "stream",
     "text": [
      "Login Exitoso\n"
     ]
    }
   ],
   "source": [
    "#Comprobamos la coneccion a la api\n",
    "try:\n",
    "    api.verify_credentials()\n",
    "    print(\"Login Exitoso\")\n",
    "except:\n",
    "    print(\"Error\")"
   ]
  },
  {
   "cell_type": "markdown",
   "metadata": {},
   "source": [
    "### <center> Ingrese Texto a buscar </center>"
   ]
  },
  {
   "cell_type": "code",
   "execution_count": 304,
   "metadata": {},
   "outputs": [
    {
     "name": "stdout",
     "output_type": "stream",
     "text": [
      "Ingrese texto a buscar:   Ecuador\n"
     ]
    }
   ],
   "source": [
    "txtBuscar = input('Ingrese texto a buscar:   ')"
   ]
  },
  {
   "cell_type": "code",
   "execution_count": 307,
   "metadata": {},
   "outputs": [],
   "source": [
    "# Realizamis la busqueda \n",
    "#Buscamos los twittes mas populares\n",
    "ts = api.search(txtBuscar, lang=\"es\", count=100, result_type='popular') \n",
    "#Buscamos los twittes mas populares y mas recientes\n",
    "#ts = api.search(txtBuscar, lang=\"es\", count=100, result_type='mixed') "
   ]
  },
  {
   "cell_type": "code",
   "execution_count": 306,
   "metadata": {},
   "outputs": [
    {
     "data": {
      "text/html": [
       "<div>\n",
       "<style scoped>\n",
       "    .dataframe tbody tr th:only-of-type {\n",
       "        vertical-align: middle;\n",
       "    }\n",
       "\n",
       "    .dataframe tbody tr th {\n",
       "        vertical-align: top;\n",
       "    }\n",
       "\n",
       "    .dataframe thead th {\n",
       "        text-align: right;\n",
       "    }\n",
       "</style>\n",
       "<table border=\"1\" class=\"dataframe\">\n",
       "  <thead>\n",
       "    <tr style=\"text-align: right;\">\n",
       "      <th></th>\n",
       "      <th>Usuario</th>\n",
       "      <th>text</th>\n",
       "      <th>rt</th>\n",
       "      <th>favoritos</th>\n",
       "      <th>hst</th>\n",
       "      <th>seguidores</th>\n",
       "    </tr>\n",
       "  </thead>\n",
       "  <tbody>\n",
       "    <tr>\n",
       "      <th>0</th>\n",
       "      <td>Lenín Moreno</td>\n",
       "      <td>¡Nuestro Ecuador se hace sentir! Gracias Carlo...</td>\n",
       "      <td>1739</td>\n",
       "      <td>1706</td>\n",
       "      <td></td>\n",
       "      <td>1066957</td>\n",
       "    </tr>\n",
       "    <tr>\n",
       "      <th>1</th>\n",
       "      <td>Andrés Arauz</td>\n",
       "      <td>Tengo la responsabilidad de comunicar al Ecuad...</td>\n",
       "      <td>733</td>\n",
       "      <td>1920</td>\n",
       "      <td></td>\n",
       "      <td>55699</td>\n",
       "    </tr>\n",
       "    <tr>\n",
       "      <th>2</th>\n",
       "      <td>Rafael Correa</td>\n",
       "      <td>🥊🥊Carlos Góngora se consagra como el primer ca...</td>\n",
       "      <td>337</td>\n",
       "      <td>1292</td>\n",
       "      <td></td>\n",
       "      <td>3740559</td>\n",
       "    </tr>\n",
       "    <tr>\n",
       "      <th>3</th>\n",
       "      <td>Presidencia ECU</td>\n",
       "      <td>La inclusión es prioridad para el Gobierno Nac...</td>\n",
       "      <td>286</td>\n",
       "      <td>279</td>\n",
       "      <td></td>\n",
       "      <td>1609791</td>\n",
       "    </tr>\n",
       "    <tr>\n",
       "      <th>4</th>\n",
       "      <td>Rafael Correa</td>\n",
       "      <td>Ecuador tiene 2 jets ejecutivos: uno de corto ...</td>\n",
       "      <td>670</td>\n",
       "      <td>1097</td>\n",
       "      <td></td>\n",
       "      <td>3740559</td>\n",
       "    </tr>\n",
       "    <tr>\n",
       "      <th>5</th>\n",
       "      <td>Rafael Correa</td>\n",
       "      <td>El Ciudadano | Celag: Andrés Arauz lidera inte...</td>\n",
       "      <td>587</td>\n",
       "      <td>1549</td>\n",
       "      <td></td>\n",
       "      <td>3740559</td>\n",
       "    </tr>\n",
       "    <tr>\n",
       "      <th>6</th>\n",
       "      <td>Pabel Muñoz L.</td>\n",
       "      <td>El 24 de junio, @InfoNodal de Argentina public...</td>\n",
       "      <td>291</td>\n",
       "      <td>483</td>\n",
       "      <td></td>\n",
       "      <td>82860</td>\n",
       "    </tr>\n",
       "    <tr>\n",
       "      <th>7</th>\n",
       "      <td>El Comercio</td>\n",
       "      <td>“Profe Nancy, no puedo mandar el deber muy pro...</td>\n",
       "      <td>184</td>\n",
       "      <td>516</td>\n",
       "      <td></td>\n",
       "      <td>1787633</td>\n",
       "    </tr>\n",
       "    <tr>\n",
       "      <th>8</th>\n",
       "      <td>Andrés Arauz</td>\n",
       "      <td>Gracias compañeros y compañeras por su respald...</td>\n",
       "      <td>520</td>\n",
       "      <td>1209</td>\n",
       "      <td>Ecuador</td>\n",
       "      <td>55699</td>\n",
       "    </tr>\n",
       "    <tr>\n",
       "      <th>9</th>\n",
       "      <td>El Universo</td>\n",
       "      <td>Les compartimos la #ColumnaDeBonil de este 18 ...</td>\n",
       "      <td>430</td>\n",
       "      <td>1050</td>\n",
       "      <td>ColumnaDeBonil</td>\n",
       "      <td>2214154</td>\n",
       "    </tr>\n",
       "    <tr>\n",
       "      <th>10</th>\n",
       "      <td>Guillaume Long</td>\n",
       "      <td>.@elcomerciocom publicó una nota sobre los 13 ...</td>\n",
       "      <td>233</td>\n",
       "      <td>392</td>\n",
       "      <td></td>\n",
       "      <td>105451</td>\n",
       "    </tr>\n",
       "  </tbody>\n",
       "</table>\n",
       "</div>"
      ],
      "text/plain": [
       "            Usuario                                               text    rt  \\\n",
       "0      Lenín Moreno  ¡Nuestro Ecuador se hace sentir! Gracias Carlo...  1739   \n",
       "1      Andrés Arauz  Tengo la responsabilidad de comunicar al Ecuad...   733   \n",
       "2     Rafael Correa  🥊🥊Carlos Góngora se consagra como el primer ca...   337   \n",
       "3   Presidencia ECU  La inclusión es prioridad para el Gobierno Nac...   286   \n",
       "4     Rafael Correa  Ecuador tiene 2 jets ejecutivos: uno de corto ...   670   \n",
       "5     Rafael Correa  El Ciudadano | Celag: Andrés Arauz lidera inte...   587   \n",
       "6    Pabel Muñoz L.  El 24 de junio, @InfoNodal de Argentina public...   291   \n",
       "7       El Comercio  “Profe Nancy, no puedo mandar el deber muy pro...   184   \n",
       "8      Andrés Arauz  Gracias compañeros y compañeras por su respald...   520   \n",
       "9       El Universo  Les compartimos la #ColumnaDeBonil de este 18 ...   430   \n",
       "10   Guillaume Long  .@elcomerciocom publicó una nota sobre los 13 ...   233   \n",
       "\n",
       "    favoritos             hst  seguidores  \n",
       "0        1706                     1066957  \n",
       "1        1920                       55699  \n",
       "2        1292                     3740559  \n",
       "3         279                     1609791  \n",
       "4        1097                     3740559  \n",
       "5        1549                     3740559  \n",
       "6         483                       82860  \n",
       "7         516                     1787633  \n",
       "8        1209         Ecuador       55699  \n",
       "9        1050  ColumnaDeBonil     2214154  \n",
       "10        392                      105451  "
      ]
     },
     "execution_count": 306,
     "metadata": {},
     "output_type": "execute_result"
    }
   ],
   "source": [
    "df = pd.DataFrame({'Usuario': list(map(lambda x: x.author.name , ts)),\n",
    "                   'text': list(map(lambda x: x.text, ts)),\n",
    "                   'rt': list(map(lambda x: x.retweet_count, ts)),\n",
    "                   'favoritos': list(map(lambda x: x.favorite_count, ts)), \n",
    "                   'hst':list(map(lambda x: x[0]['text'] if x != [] else '', list(map(lambda x: x.entities['hashtags'], ts)))),\n",
    "                   'seguidores': list(map(lambda x: x.author.followers_count, ts))})\n",
    "df"
   ]
  },
  {
   "cell_type": "code",
   "execution_count": null,
   "metadata": {},
   "outputs": [],
   "source": []
  }
 ],
 "metadata": {
  "kernelspec": {
   "display_name": "Python 3",
   "language": "python",
   "name": "python3"
  },
  "language_info": {
   "codemirror_mode": {
    "name": "ipython",
    "version": 3
   },
   "file_extension": ".py",
   "mimetype": "text/x-python",
   "name": "python",
   "nbconvert_exporter": "python",
   "pygments_lexer": "ipython3",
   "version": "3.8.5"
  }
 },
 "nbformat": 4,
 "nbformat_minor": 4
}
